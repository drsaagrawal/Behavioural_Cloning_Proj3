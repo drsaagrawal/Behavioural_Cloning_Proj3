{
 "cells": [
  {
   "cell_type": "code",
   "execution_count": 1,
   "metadata": {},
   "outputs": [
    {
     "data": {
      "text/plain": [
       "'\\nfor line in lines:\\n    counter+=1\\n    for i in range(3):\\n        source_path = line[i]\\n        print(\"b\"+str(counter))\\n        filename = source_path.split(\\'/\\')[-1]\\n        current_path = \\'data/IMG/\\' + filename\\n        image = plt.imread(current_path)\\n    #image = cv2.cvtColor(image, cv2.COLOR_BGR2RGB)\\n        images.append(image)\\n        if(i==1):\\n            measurement = (float(line[3])+correction)\\n            measurements.append(measurement)\\n        elif(i==2):\\n            measurement = (float(line[3])-correction)\\n            measurements.append(measurement)\\n        else:\\n            measurement = (float(line[3]))\\n            measurements.append(measurement)\\n    if(counter>5500):\\n        break\\n#cv2.imshow(\"dd\",images[0])\\n# plt.imshow(image[0])\\n'"
      ]
     },
     "execution_count": 1,
     "metadata": {},
     "output_type": "execute_result"
    }
   ],
   "source": [
    "import csv\n",
    "import cv2\n",
    "import numpy as np\n",
    "import matplotlib.pyplot as plt\n",
    "%matplotlib inline\n",
    "from sklearn.utils import shuffle\n",
    "lines = []\n",
    "correction=0.1\n",
    "with open('data/driving_log.csv') as csvfile:\n",
    "    reader = csv.reader(csvfile)\n",
    "    for line in reader:\n",
    "        lines.append(line)\n",
    "#counter=0 \n",
    "'''\n",
    "for line in lines:\n",
    "    counter+=1\n",
    "    for i in range(3):\n",
    "        source_path = line[i]\n",
    "        print(\"b\"+str(counter))\n",
    "        filename = source_path.split('/')[-1]\n",
    "        current_path = 'data/IMG/' + filename\n",
    "        image = plt.imread(current_path)\n",
    "    #image = cv2.cvtColor(image, cv2.COLOR_BGR2RGB)\n",
    "        images.append(image)\n",
    "        if(i==1):\n",
    "            measurement = (float(line[3])+correction)\n",
    "            measurements.append(measurement)\n",
    "        elif(i==2):\n",
    "            measurement = (float(line[3])-correction)\n",
    "            measurements.append(measurement)\n",
    "        else:\n",
    "            measurement = (float(line[3]))\n",
    "            measurements.append(measurement)\n",
    "    if(counter>5500):\n",
    "        break\n",
    "#cv2.imshow(\"dd\",images[0])\n",
    "# plt.imshow(image[0])\n",
    "'''\n",
    "\n",
    "    \n"
   ]
  },
  {
   "cell_type": "code",
   "execution_count": 2,
   "metadata": {
    "collapsed": true
   },
   "outputs": [],
   "source": [
    "import time\n",
    "def augment(images,measurements):\n",
    "    augmented_images, augmented_measurements = [], []\n",
    "    #print(\"cc\",images)\n",
    "    for image,measurement in zip(images, measurements):\n",
    "        augmented_images.append(image)\n",
    "        augmented_measurements.append(measurement)\n",
    "        augmented_images.append(np.fliplr(image))\n",
    "        augmented_measurements.append(measurement*-1.0)\n",
    "    return augmented_images,augmented_measurements"
   ]
  },
  {
   "cell_type": "code",
   "execution_count": 3,
   "metadata": {},
   "outputs": [
    {
     "name": "stderr",
     "output_type": "stream",
     "text": [
      "Using TensorFlow backend.\n"
     ]
    },
    {
     "name": "stdout",
     "output_type": "stream",
     "text": [
      "Epoch 1/3\n",
      "38568/38568 [==============================] - 90s - loss: 0.0136 - val_loss: 0.0117\n",
      "Epoch 2/3\n",
      "38568/38568 [==============================] - 81s - loss: 0.0109 - val_loss: 0.0099\n",
      "Epoch 3/3\n",
      "38568/38568 [==============================] - 81s - loss: 0.0103 - val_loss: 0.0096\n"
     ]
    }
   ],
   "source": [
    "import tensorflow as tf\n",
    "def generator(samples, batch_size=32):\n",
    "    num_samples = len(samples)\n",
    "    while 1: # Loop forever so the generator never terminates\n",
    "        shuffle(samples)\n",
    "        for offset in range(0, num_samples, batch_size):\n",
    "            batch_samples = samples[offset:offset+batch_size]\n",
    "            aug_images = []\n",
    "            angles = []\n",
    "            \n",
    "            images = []\n",
    "            measurements = []\n",
    "            for batch_sample in batch_samples:\n",
    "                for i in range(3):\n",
    "                    source_path = batch_sample[i]\n",
    "                   # print(\"b\"+str(counter))\n",
    "                    filename = source_path.split('/')[-1]\n",
    "                    current_path = 'data/IMG/' + filename\n",
    "                    image = plt.imread(current_path)\n",
    "    #image = cv2.cvtColor(image, cv2.COLOR_BGR2RGB)\n",
    "                    images.append(image)\n",
    "                    if(i==1):\n",
    "                        measurement = (float(batch_sample[3])+correction)\n",
    "                        measurements.append(measurement)\n",
    "                    elif(i==2):\n",
    "                        measurement = (float(batch_sample[3])-correction)\n",
    "                        measurements.append(measurement)\n",
    "                    else:\n",
    "                        measurement = (float(batch_sample[3]))\n",
    "                        measurements.append(measurement)\n",
    "            #print(\"bb\",measurements)\n",
    "            aug_images,angles = augment(images,measurements)\n",
    "            #print(\"aa\",images)\n",
    "\n",
    "            # trim image to only see section with road\n",
    "            X_train = np.array(aug_images)\n",
    "            y_train = np.array(angles)\n",
    "            #print(\"X_train:\", len(X_train))\n",
    "            yield shuffle(X_train, y_train)\n",
    "\n",
    "# compile and train the model using the generator function\n",
    "from sklearn.model_selection import train_test_split\n",
    "train_samples, validation_samples = train_test_split(lines, test_size=0.2)\n",
    "\n",
    "train_generator = generator(train_samples, batch_size=128)\n",
    "validation_generator = generator(validation_samples, batch_size=128)\n",
    "\n",
    "#ch, row, col = 3, 80, 320  # Trimmed image format\n",
    "\n",
    "from keras.models import Sequential\n",
    "from keras.layers import Flatten,Dense,Lambda,Cropping2D,Dropout\n",
    "from keras.layers.convolutional import Convolution2D\n",
    "\n",
    "\n",
    "#model = Sequential()\n",
    "#model.add(Lambda(lambda x : x / 255.0-0.5,input_shape=(160,320,3)))\n",
    "#model.add(Cropping2D(cropping=((70,25),(0,0))))\n",
    "#model.add(Convolution2D(24,5,5,subsample=(2,2),activation=\"relu\"))\n",
    "#model.add(Convolution2D(36,5,5,subsample=(2,2),activation=\"relu\"))\n",
    "#model.add(Convolution2D(48,5,5,subsample=(2,2),activation=\"relu\"))\n",
    "#model.add(Dropout(0.8))\n",
    "#model.add(Convolution2D(68,3,3,activation=\"relu\"))\n",
    "#model.add(Convolution2D(64,3,3,activation=\"relu\"))\n",
    "#model.add(Flatten())\n",
    "#model.add(Dense(100))\n",
    "#model.add(Dropout(0.6))\n",
    "#model.add(Dense(50))\n",
    "#model.add(Dense(10))\n",
    "#model.add(Dense(1))\n",
    "#model.summary()\n",
    "#gpu_options = tf.GPUOptions(allow_growth=True)\n",
    "#session = tf.InteractiveSession(config=tf.ConfigProto(gpu_options=gpu_options))\n",
    "model = Sequential()\n",
    "model.add(Lambda(lambda x : x / 255.0-0.5,input_shape=(160,320,3)))\n",
    "model.add(Cropping2D(cropping=((70,25),(0,0))))\n",
    "model.add(Convolution2D(24,5,5,subsample=(2,2),activation=\"relu\"))\n",
    "model.add(Convolution2D(36,5,5,subsample=(2,2),activation=\"relu\"))\n",
    "model.add(Convolution2D(48,5,5,subsample=(2,2),activation=\"relu\"))\n",
    "model.add(Convolution2D(68,3,3,activation=\"relu\"))\n",
    "model.add(Convolution2D(64,3,3,activation=\"relu\"))\n",
    "model.add(Flatten())\n",
    "model.add(Dense(100))\n",
    "model.add(Dense(50))\n",
    "model.add(Dense(10))\n",
    "model.add(Dense(1))\n",
    "model.compile(loss='mse', optimizer='adam')\n",
    "model.fit_generator(train_generator, samples_per_epoch=len(train_samples)*6, validation_data=validation_generator,nb_val_samples=len(validation_samples)*6, nb_epoch=3,verbose=1)\n",
    "model.save('model.h5')"
   ]
  },
  {
   "cell_type": "code",
   "execution_count": null,
   "metadata": {
    "collapsed": true
   },
   "outputs": [],
   "source": []
  }
 ],
 "metadata": {
  "kernelspec": {
   "display_name": "Python [conda env:carnd-term1]",
   "language": "python",
   "name": "conda-env-carnd-term1-py"
  },
  "language_info": {
   "codemirror_mode": {
    "name": "ipython",
    "version": 3
   },
   "file_extension": ".py",
   "mimetype": "text/x-python",
   "name": "python",
   "nbconvert_exporter": "python",
   "pygments_lexer": "ipython3",
   "version": "3.5.2"
  },
  "widgets": {
   "state": {},
   "version": "1.1.2"
  }
 },
 "nbformat": 4,
 "nbformat_minor": 2
}
